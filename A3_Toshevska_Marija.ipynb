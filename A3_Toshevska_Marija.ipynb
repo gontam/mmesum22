{
  "nbformat": 4,
  "nbformat_minor": 0,
  "metadata": {
    "colab": {
      "name": "Bioinformatics-Kmeans.ipynb",
      "provenance": [],
      "collapsed_sections": [],
      "include_colab_link": true
    },
    "kernelspec": {
      "name": "python3",
      "display_name": "Python 3"
    },
    "language_info": {
      "name": "python"
    }
  },
  "cells": [
    {
      "cell_type": "markdown",
      "metadata": {
        "id": "view-in-github",
        "colab_type": "text"
      },
      "source": [
        "<a href=\"https://colab.research.google.com/github/gontam/mmesum22/blob/toshevskamarija/A3_Toshevska_Marija.ipynb\" target=\"_parent\"><img src=\"https://colab.research.google.com/assets/colab-badge.svg\" alt=\"Open In Colab\"/></a>"
      ]
    },
    {
      "cell_type": "code",
      "source": [
        "from google.colab import drive\n",
        "drive.mount('/content/drive')"
      ],
      "metadata": {
        "colab": {
          "base_uri": "https://localhost:8080/"
        },
        "id": "KEnaIViKazpC",
        "outputId": "20af241a-235d-4932-ff73-c1915d2e5c9a"
      },
      "execution_count": 7,
      "outputs": [
        {
          "output_type": "stream",
          "name": "stdout",
          "text": [
            "Drive already mounted at /content/drive; to attempt to forcibly remount, call drive.mount(\"/content/drive\", force_remount=True).\n"
          ]
        }
      ]
    },
    {
      "cell_type": "markdown",
      "source": [
        "# Project done by students: Cristina Soriano, Oliver Jovanovic, Marija Toshevska"
      ],
      "metadata": {
        "id": "K2l8x_bknXFM"
      }
    },
    {
      "cell_type": "code",
      "execution_count": null,
      "metadata": {
        "id": "_gHZ-wDNjUuo"
      },
      "outputs": [],
      "source": [
        "import matplotlib.pyplot as plt\n",
        "import os\n",
        "import csv\n",
        "import pandas as pd\n",
        "import numpy as np\n",
        "from random import sample\n",
        "# from sklearn.cluster import KMeans\n",
        "from scipy.spatial.distance import cdist"
      ]
    },
    {
      "cell_type": "code",
      "source": [
        "reader = pd.read_csv('/content/drive/MyDrive/input.csv', header=None, delimiter=';')"
      ],
      "metadata": {
        "id": "1e84rWAMjjhO"
      },
      "execution_count": null,
      "outputs": []
    },
    {
      "cell_type": "code",
      "source": [
        "#change commas by dots\n",
        "reader[0]=reader[0].str.replace(',','.')\n",
        "reader[1]=reader[1].str.replace(',','.')"
      ],
      "metadata": {
        "id": "Cp_Pa5yqzEI4"
      },
      "execution_count": 8,
      "outputs": []
    },
    {
      "cell_type": "code",
      "source": [
        "reader[0] = pd.to_numeric(reader[0], downcast=\"float\")\n",
        "reader[1] = pd.to_numeric(reader[1], downcast=\"float\")"
      ],
      "metadata": {
        "id": "aDVJJTxLxx37"
      },
      "execution_count": 9,
      "outputs": []
    },
    {
      "cell_type": "code",
      "source": [
        "reader"
      ],
      "metadata": {
        "colab": {
          "base_uri": "https://localhost:8080/",
          "height": 676
        },
        "id": "IfrrWW6ypInu",
        "outputId": "8a54ec94-73af-4829-9271-d7ce457c0f92"
      },
      "execution_count": null,
      "outputs": [
        {
          "output_type": "execute_result",
          "data": {
            "text/plain": [
              "            0         1\n",
              "0    3.000000       NaN\n",
              "1   18.000000  2.000000\n",
              "2    0.348265  0.269012\n",
              "3    0.234727  0.757320\n",
              "4    0.767185  0.721171\n",
              "5    0.716671  0.867751\n",
              "6    0.919303  0.573783\n",
              "7    0.344657  0.165592\n",
              "8    0.456946  0.939763\n",
              "9    0.276024  0.150340\n",
              "10   0.562195  0.473443\n",
              "11   0.235105  0.325537\n",
              "12   0.903213  0.004043\n",
              "13   0.563296  0.704395\n",
              "14   0.464132  0.815031\n",
              "15   0.781521  0.327890\n",
              "16   0.029144  0.158528\n",
              "17   0.834918  0.404196\n",
              "18   0.050048  0.453950\n",
              "19   0.621989  0.059894"
            ],
            "text/html": [
              "\n",
              "  <div id=\"df-fc945513-cc6a-4c5c-8e84-739bf050b08d\">\n",
              "    <div class=\"colab-df-container\">\n",
              "      <div>\n",
              "<style scoped>\n",
              "    .dataframe tbody tr th:only-of-type {\n",
              "        vertical-align: middle;\n",
              "    }\n",
              "\n",
              "    .dataframe tbody tr th {\n",
              "        vertical-align: top;\n",
              "    }\n",
              "\n",
              "    .dataframe thead th {\n",
              "        text-align: right;\n",
              "    }\n",
              "</style>\n",
              "<table border=\"1\" class=\"dataframe\">\n",
              "  <thead>\n",
              "    <tr style=\"text-align: right;\">\n",
              "      <th></th>\n",
              "      <th>0</th>\n",
              "      <th>1</th>\n",
              "    </tr>\n",
              "  </thead>\n",
              "  <tbody>\n",
              "    <tr>\n",
              "      <th>0</th>\n",
              "      <td>3.000000</td>\n",
              "      <td>NaN</td>\n",
              "    </tr>\n",
              "    <tr>\n",
              "      <th>1</th>\n",
              "      <td>18.000000</td>\n",
              "      <td>2.000000</td>\n",
              "    </tr>\n",
              "    <tr>\n",
              "      <th>2</th>\n",
              "      <td>0.348265</td>\n",
              "      <td>0.269012</td>\n",
              "    </tr>\n",
              "    <tr>\n",
              "      <th>3</th>\n",
              "      <td>0.234727</td>\n",
              "      <td>0.757320</td>\n",
              "    </tr>\n",
              "    <tr>\n",
              "      <th>4</th>\n",
              "      <td>0.767185</td>\n",
              "      <td>0.721171</td>\n",
              "    </tr>\n",
              "    <tr>\n",
              "      <th>5</th>\n",
              "      <td>0.716671</td>\n",
              "      <td>0.867751</td>\n",
              "    </tr>\n",
              "    <tr>\n",
              "      <th>6</th>\n",
              "      <td>0.919303</td>\n",
              "      <td>0.573783</td>\n",
              "    </tr>\n",
              "    <tr>\n",
              "      <th>7</th>\n",
              "      <td>0.344657</td>\n",
              "      <td>0.165592</td>\n",
              "    </tr>\n",
              "    <tr>\n",
              "      <th>8</th>\n",
              "      <td>0.456946</td>\n",
              "      <td>0.939763</td>\n",
              "    </tr>\n",
              "    <tr>\n",
              "      <th>9</th>\n",
              "      <td>0.276024</td>\n",
              "      <td>0.150340</td>\n",
              "    </tr>\n",
              "    <tr>\n",
              "      <th>10</th>\n",
              "      <td>0.562195</td>\n",
              "      <td>0.473443</td>\n",
              "    </tr>\n",
              "    <tr>\n",
              "      <th>11</th>\n",
              "      <td>0.235105</td>\n",
              "      <td>0.325537</td>\n",
              "    </tr>\n",
              "    <tr>\n",
              "      <th>12</th>\n",
              "      <td>0.903213</td>\n",
              "      <td>0.004043</td>\n",
              "    </tr>\n",
              "    <tr>\n",
              "      <th>13</th>\n",
              "      <td>0.563296</td>\n",
              "      <td>0.704395</td>\n",
              "    </tr>\n",
              "    <tr>\n",
              "      <th>14</th>\n",
              "      <td>0.464132</td>\n",
              "      <td>0.815031</td>\n",
              "    </tr>\n",
              "    <tr>\n",
              "      <th>15</th>\n",
              "      <td>0.781521</td>\n",
              "      <td>0.327890</td>\n",
              "    </tr>\n",
              "    <tr>\n",
              "      <th>16</th>\n",
              "      <td>0.029144</td>\n",
              "      <td>0.158528</td>\n",
              "    </tr>\n",
              "    <tr>\n",
              "      <th>17</th>\n",
              "      <td>0.834918</td>\n",
              "      <td>0.404196</td>\n",
              "    </tr>\n",
              "    <tr>\n",
              "      <th>18</th>\n",
              "      <td>0.050048</td>\n",
              "      <td>0.453950</td>\n",
              "    </tr>\n",
              "    <tr>\n",
              "      <th>19</th>\n",
              "      <td>0.621989</td>\n",
              "      <td>0.059894</td>\n",
              "    </tr>\n",
              "  </tbody>\n",
              "</table>\n",
              "</div>\n",
              "      <button class=\"colab-df-convert\" onclick=\"convertToInteractive('df-fc945513-cc6a-4c5c-8e84-739bf050b08d')\"\n",
              "              title=\"Convert this dataframe to an interactive table.\"\n",
              "              style=\"display:none;\">\n",
              "        \n",
              "  <svg xmlns=\"http://www.w3.org/2000/svg\" height=\"24px\"viewBox=\"0 0 24 24\"\n",
              "       width=\"24px\">\n",
              "    <path d=\"M0 0h24v24H0V0z\" fill=\"none\"/>\n",
              "    <path d=\"M18.56 5.44l.94 2.06.94-2.06 2.06-.94-2.06-.94-.94-2.06-.94 2.06-2.06.94zm-11 1L8.5 8.5l.94-2.06 2.06-.94-2.06-.94L8.5 2.5l-.94 2.06-2.06.94zm10 10l.94 2.06.94-2.06 2.06-.94-2.06-.94-.94-2.06-.94 2.06-2.06.94z\"/><path d=\"M17.41 7.96l-1.37-1.37c-.4-.4-.92-.59-1.43-.59-.52 0-1.04.2-1.43.59L10.3 9.45l-7.72 7.72c-.78.78-.78 2.05 0 2.83L4 21.41c.39.39.9.59 1.41.59.51 0 1.02-.2 1.41-.59l7.78-7.78 2.81-2.81c.8-.78.8-2.07 0-2.86zM5.41 20L4 18.59l7.72-7.72 1.47 1.35L5.41 20z\"/>\n",
              "  </svg>\n",
              "      </button>\n",
              "      \n",
              "  <style>\n",
              "    .colab-df-container {\n",
              "      display:flex;\n",
              "      flex-wrap:wrap;\n",
              "      gap: 12px;\n",
              "    }\n",
              "\n",
              "    .colab-df-convert {\n",
              "      background-color: #E8F0FE;\n",
              "      border: none;\n",
              "      border-radius: 50%;\n",
              "      cursor: pointer;\n",
              "      display: none;\n",
              "      fill: #1967D2;\n",
              "      height: 32px;\n",
              "      padding: 0 0 0 0;\n",
              "      width: 32px;\n",
              "    }\n",
              "\n",
              "    .colab-df-convert:hover {\n",
              "      background-color: #E2EBFA;\n",
              "      box-shadow: 0px 1px 2px rgba(60, 64, 67, 0.3), 0px 1px 3px 1px rgba(60, 64, 67, 0.15);\n",
              "      fill: #174EA6;\n",
              "    }\n",
              "\n",
              "    [theme=dark] .colab-df-convert {\n",
              "      background-color: #3B4455;\n",
              "      fill: #D2E3FC;\n",
              "    }\n",
              "\n",
              "    [theme=dark] .colab-df-convert:hover {\n",
              "      background-color: #434B5C;\n",
              "      box-shadow: 0px 1px 3px 1px rgba(0, 0, 0, 0.15);\n",
              "      filter: drop-shadow(0px 1px 2px rgba(0, 0, 0, 0.3));\n",
              "      fill: #FFFFFF;\n",
              "    }\n",
              "  </style>\n",
              "\n",
              "      <script>\n",
              "        const buttonEl =\n",
              "          document.querySelector('#df-fc945513-cc6a-4c5c-8e84-739bf050b08d button.colab-df-convert');\n",
              "        buttonEl.style.display =\n",
              "          google.colab.kernel.accessAllowed ? 'block' : 'none';\n",
              "\n",
              "        async function convertToInteractive(key) {\n",
              "          const element = document.querySelector('#df-fc945513-cc6a-4c5c-8e84-739bf050b08d');\n",
              "          const dataTable =\n",
              "            await google.colab.kernel.invokeFunction('convertToInteractive',\n",
              "                                                     [key], {});\n",
              "          if (!dataTable) return;\n",
              "\n",
              "          const docLinkHtml = 'Like what you see? Visit the ' +\n",
              "            '<a target=\"_blank\" href=https://colab.research.google.com/notebooks/data_table.ipynb>data table notebook</a>'\n",
              "            + ' to learn more about interactive tables.';\n",
              "          element.innerHTML = '';\n",
              "          dataTable['output_type'] = 'display_data';\n",
              "          await google.colab.output.renderOutput(dataTable, element);\n",
              "          const docLink = document.createElement('div');\n",
              "          docLink.innerHTML = docLinkHtml;\n",
              "          element.appendChild(docLink);\n",
              "        }\n",
              "      </script>\n",
              "    </div>\n",
              "  </div>\n",
              "  "
            ]
          },
          "metadata": {},
          "execution_count": 6
        }
      ]
    },
    {
      "cell_type": "code",
      "source": [
        "import random"
      ],
      "metadata": {
        "id": "Yxmdt4Xopj7W"
      },
      "execution_count": 10,
      "outputs": []
    },
    {
      "cell_type": "code",
      "source": [
        "data=reader.iloc[2:len(reader)]\n",
        "print(data)"
      ],
      "metadata": {
        "colab": {
          "base_uri": "https://localhost:8080/"
        },
        "id": "kXv1wUfg6Bba",
        "outputId": "423756a3-2345-4cf2-e1d9-757a35e0db1c"
      },
      "execution_count": 11,
      "outputs": [
        {
          "output_type": "stream",
          "name": "stdout",
          "text": [
            "           0         1\n",
            "2   0.348265  0.269012\n",
            "3   0.234727  0.757320\n",
            "4   0.767185  0.721171\n",
            "5   0.716671  0.867751\n",
            "6   0.919303  0.573783\n",
            "7   0.344657  0.165592\n",
            "8   0.456946  0.939763\n",
            "9   0.276024  0.150340\n",
            "10  0.562195  0.473443\n",
            "11  0.235105  0.325537\n",
            "12  0.903213  0.004043\n",
            "13  0.563296  0.704395\n",
            "14  0.464132  0.815031\n",
            "15  0.781521  0.327890\n",
            "16  0.029144  0.158528\n",
            "17  0.834918  0.404196\n",
            "18  0.050048  0.453950\n",
            "19  0.621989  0.059894\n"
          ]
        }
      ]
    },
    {
      "cell_type": "code",
      "source": [
        "# Plot the points:\n",
        "plt.scatter(data[0], data[1], alpha=.5)\n",
        "plt.xlim([0, 1])\n",
        "plt.ylim([0, 1])\n",
        "plt.xlabel('X')\n",
        "plt.ylabel('Y')\n",
        "plt.title('Have a look at the data points')\n",
        "plt.show()"
      ],
      "metadata": {
        "colab": {
          "base_uri": "https://localhost:8080/",
          "height": 295
        },
        "id": "fOdawDbb1CPX",
        "outputId": "e91657c8-6d86-46a6-849c-00d0d21a76c4"
      },
      "execution_count": 12,
      "outputs": [
        {
          "output_type": "display_data",
          "data": {
            "text/plain": [
              "<Figure size 432x288 with 1 Axes>"
            ],
            "image/png": "[encoded data removed]"
          },
          "metadata": {
            "needs_background": "light"
          }
        }
      ]
    },
    {
      "cell_type": "code",
      "source": [
        "#Implementing it from scratch:\n",
        "\n",
        "# Step 1: Select value of K:\n",
        "n_cluster=reader[0][0]\n",
        "n_cluster=int(n_cluster)\n",
        "\n",
        "\n",
        "# Step 2: Select random K points which will act as centroids.\n",
        "i=0\n",
        "centroids=[]\n",
        "\n",
        "while i<n_cluster:\n",
        "  np.random.seed(i)\n",
        "  array=np.random.rand(2)\n",
        "  centroids.append(array)\n",
        "  i=i+1 \n",
        "\n",
        "# Plot normal data and random centroids:\n",
        "plt.scatter(data[0], data[1], c='black')\n",
        "plt.scatter(centroids[0][0],centroids[0][1], c='red')\n",
        "plt.scatter(centroids[1][0],centroids[1][1], c='blue')\n",
        "plt.scatter(centroids[2][0],centroids[2][1], c='green')\n",
        "plt.xlim([0, 1])\n",
        "plt.ylim([0, 1])\n",
        "plt.xlabel('X-')\n",
        "plt.ylabel('Y')\n",
        "plt.title('Plot with Centroids')\n",
        "\n",
        "plt.show()"
      ],
      "metadata": {
        "colab": {
          "base_uri": "https://localhost:8080/",
          "height": 295
        },
        "id": "sR-tfcKL8G77",
        "outputId": "642eea1d-b1fc-41ec-d328-f38af5919a95"
      },
      "execution_count": 13,
      "outputs": [
        {
          "output_type": "display_data",
          "data": {
            "text/plain": [
              "<Figure size 432x288 with 1 Axes>"
            ],
            "image/png": "[encoded data removed]"
          },
          "metadata": {
            "needs_background": "light"
          }
        }
      ]
    },
    {
      "cell_type": "code",
      "source": [
        "# Implement KMeans:\n",
        "# Calculate distances:\n",
        "x = 0\n",
        "a = np.empty([1, 2])\n",
        "#data_lenght\n",
        "data_length=data.shape[0]\n",
        "dist=[]\n",
        "tmp = np.empty([data_length, n_cluster])\n",
        "x = 0\n",
        "distances=[]\n",
        "while x <= data_length - 1:\n",
        "  point=np.matrix(data.iloc[x],dtype='float64')\n",
        "  dist1=cdist(np.matrix(centroids[0]),point,metric='cityblock')\n",
        "  dist2=cdist(np.matrix(centroids[1]),point,metric='cityblock')\n",
        "  dist3=cdist(np.matrix(centroids[2]),point,metric='cityblock')\n",
        "  dist.append(dist1)\n",
        "  dist.append(dist2)\n",
        "  dist.append(dist3)\n",
        "  distances.append(dist)\n",
        "  dist=[]\n",
        "  x=x+1\n"
      ],
      "metadata": {
        "id": "PDgUtpE7H0Yn"
      },
      "execution_count": 14,
      "outputs": []
    },
    {
      "cell_type": "code",
      "source": [
        "clusters=[]\n",
        "for i in range(0,len(distances)):\n",
        "  clusters.append(distances[i].index(min(distances[i])))\n",
        "\n",
        "# Plot clusters:\n",
        "for i in range(0,len(clusters)):\n",
        "  if clusters[i]==0:\n",
        "    plt.scatter(data[0][i+2],data[1][i+2],c='red')\n",
        "  elif clusters[i]==1:\n",
        "    plt.scatter(data[0][i+2],data[1][i+2],c='blue')\n",
        "  elif clusters[i]==2:\n",
        "    plt.scatter(data[0][i+2],data[1][i+2],c='green')\n",
        "plt.scatter(centroids[0][0],centroids[0][1], c='red',marker='>')\n",
        "plt.scatter(centroids[1][0],centroids[1][1], c='blue',marker='>')\n",
        "plt.scatter(centroids[2][0],centroids[2][1], c='green',marker='>')\n",
        "plt.xlim([0, 1])\n",
        "plt.ylim([0, 1])\n",
        "plt.xlabel('X-')\n",
        "plt.ylabel('Y')\n",
        "plt.title('Cluster plots')\n",
        "\n",
        "plt.show()"
      ],
      "metadata": {
        "colab": {
          "base_uri": "https://localhost:8080/",
          "height": 295
        },
        "id": "PjnugBLo3jLQ",
        "outputId": "eb689946-d3a3-409a-a0b1-8b58502ca55e"
      },
      "execution_count": 15,
      "outputs": [
        {
          "output_type": "display_data",
          "data": {
            "text/plain": [
              "<Figure size 432x288 with 1 Axes>"
            ],
            "image/png": "[encoded data removed]"
          },
          "metadata": {
            "needs_background": "light"
          }
        }
      ]
    },
    {
      "cell_type": "code",
      "source": [
        "maxerror=10\n",
        "iteration=0\n",
        "while maxerror>0.5 and iteration<10:\n",
        "  clusters=[]\n",
        "  for i in range(0,len(distances)):\n",
        "    clusters.append(distances[i].index(min(distances[i])))\n",
        "\n",
        "  # Plot clusters:\n",
        "  for i in range(0,len(clusters)):\n",
        "    if clusters[i]==0:\n",
        "      plt.scatter(data[0][i+2],data[1][i+2],c='red')\n",
        "    elif clusters[i]==1:\n",
        "      plt.scatter(data[0][i+2],data[1][i+2],c='blue')\n",
        "    elif clusters[i]==2:\n",
        "      plt.scatter(data[0][i+2],data[1][i+2],c='green')\n",
        "  plt.scatter(centroids[0][0],centroids[0][1], c='red',marker='>')\n",
        "  plt.scatter(centroids[1][0],centroids[1][1], c='blue',marker='>')\n",
        "  plt.scatter(centroids[2][0],centroids[2][1], c='green',marker='>')\n",
        "  plt.xlim([0, 1])\n",
        "  plt.ylim([0, 1])\n",
        "  plt.xlabel('X-')\n",
        "  plt.ylabel('Y')\n",
        "  plt.title('Cluster plots')\n",
        "\n",
        "  plt.show()\n",
        "\n",
        "  #recalculate centroids\n",
        "  aux_01=0\n",
        "  aux_11=0\n",
        "  aux_02=0\n",
        "  aux_12=0\n",
        "  aux_03=0\n",
        "  aux_13=0\n",
        "  n_1=0\n",
        "  n_2=0\n",
        "  n_3=0\n",
        "  for i in range(0,len(clusters)):\n",
        "    if clusters[i]==0:\n",
        "      aux_01=data[0][i+2]+aux_01\n",
        "      aux_11=data[1][i+2]+aux_11\n",
        "      n_1=n_1+1\n",
        "    elif clusters[i]==1:\n",
        "      aux_02=data[0][i+2]+aux_02\n",
        "      aux_12=data[1][i+2]+aux_12\n",
        "      n_2=n_2+1\n",
        "    elif clusters[i]==2:\n",
        "      aux_03=data[0][i+2]+aux_03\n",
        "      aux_13=data[1][i+2]+aux_13\n",
        "      n_3=n_3+1\n",
        "  oldcentroids=centroids\n",
        "  centroids[0][0]=aux_01/n_1\n",
        "  centroids[0][1]=aux_11/n_1\n",
        "  centroids[1][0]=aux_02/n_2\n",
        "  centroids[1][1]=aux_12/n_2\n",
        "  centroids[2][0]=aux_03/n_3\n",
        "  centroids[2][1]=aux_13/n_3\n",
        "  errortotal=cdist(np.matrix(centroids),np.matrix(oldcentroids),metric='cityblock')\n",
        "\n",
        "  for i in range(0,len(errortotal)):\n",
        "    aux=max(errortotal[i])\n",
        "    if aux<maxerror:\n",
        "      maxerror=aux\n",
        "      iteration=0\n",
        "    if aux==maxerror:\n",
        "      iteration=iteration+1\n",
        "  print(maxerror)"
      ],
      "metadata": {
        "colab": {
          "base_uri": "https://localhost:8080/",
          "height": 1000
        },
        "id": "OFtDOeSTTlIQ",
        "outputId": "eeb3c981-7d12-4710-9f25-038f268fde97"
      },
      "execution_count": 16,
      "outputs": [
        {
          "output_type": "display_data",
          "data": {
            "text/plain": [
              "<Figure size 432x288 with 1 Axes>"
            ],
            "image/png": "[encoded data removed]"
          },
          "metadata": {
            "needs_background": "light"
          }
        },
        {
          "output_type": "stream",
          "name": "stdout",
          "text": [
            "0.6722602665956532\n"
          ]
        },
        {
          "output_type": "display_data",
          "data": {
            "text/plain": [
              "<Figure size 432x288 with 1 Axes>"
            ],
            "image/png": "[encoded data removed]"
          },
          "metadata": {
            "needs_background": "light"
          }
        },
        {
          "output_type": "stream",
          "name": "stdout",
          "text": [
            "0.6722602665956532\n"
          ]
        },
        {
          "output_type": "display_data",
          "data": {
            "text/plain": [
              "<Figure size 432x288 with 1 Axes>"
            ],
            "image/png": "[encoded data removed]"
          },
          "metadata": {
            "needs_background": "light"
          }
        },
        {
          "output_type": "stream",
          "name": "stdout",
          "text": [
            "0.6722602665956532\n"
          ]
        },
        {
          "output_type": "display_data",
          "data": {
            "text/plain": [
              "<Figure size 432x288 with 1 Axes>"
            ],
            "image/png": "[encoded data removed]"
          },
          "metadata": {
            "needs_background": "light"
          }
        },
        {
          "output_type": "stream",
          "name": "stdout",
          "text": [
            "0.6722602665956532\n"
          ]
        },
        {
          "output_type": "display_data",
          "data": {
            "text/plain": [
              "<Figure size 432x288 with 1 Axes>"
            ],
            "image/png": "[encoded data removed]"
          },
          "metadata": {
            "needs_background": "light"
          }
        },
        {
          "output_type": "stream",
          "name": "stdout",
          "text": [
            "0.6722602665956532\n"
          ]
        },
        {
          "output_type": "display_data",
          "data": {
            "text/plain": [
              "<Figure size 432x288 with 1 Axes>"
            ],
            "image/png": "[encoded data removed]"
          },
          "metadata": {
            "needs_background": "light"
          }
        },
        {
          "output_type": "stream",
          "name": "stdout",
          "text": [
            "0.6722602665956532\n"
          ]
        },
        {
          "output_type": "display_data",
          "data": {
            "text/plain": [
              "<Figure size 432x288 with 1 Axes>"
            ],
            "image/png": "[encoded data removed]"
          },
          "metadata": {
            "needs_background": "light"
          }
        },
        {
          "output_type": "stream",
          "name": "stdout",
          "text": [
            "0.6722602665956532\n"
          ]
        },
        {
          "output_type": "display_data",
          "data": {
            "text/plain": [
              "<Figure size 432x288 with 1 Axes>"
            ],
            "image/png": "[encoded data removed]"
          },
          "metadata": {
            "needs_background": "light"
          }
        },
        {
          "output_type": "stream",
          "name": "stdout",
          "text": [
            "0.6722602665956532\n"
          ]
        },
        {
          "output_type": "display_data",
          "data": {
            "text/plain": [
              "<Figure size 432x288 with 1 Axes>"
            ],
            "image/png": "[encoded data removed]"
          },
          "metadata": {
            "needs_background": "light"
          }
        },
        {
          "output_type": "stream",
          "name": "stdout",
          "text": [
            "0.6722602665956532\n"
          ]
        },
        {
          "output_type": "display_data",
          "data": {
            "text/plain": [
              "<Figure size 432x288 with 1 Axes>"
            ],
            "image/png": "[encoded data removed]"
          },
          "metadata": {
            "needs_background": "light"
          }
        },
        {
          "output_type": "stream",
          "name": "stdout",
          "text": [
            "0.6722602665956532\n"
          ]
        }
      ]
    },
    {
      "cell_type": "code",
      "source": [
        "import math"
      ],
      "metadata": {
        "id": "KU3N3Ceq91km"
      },
      "execution_count": 17,
      "outputs": []
    },
    {
      "cell_type": "code",
      "source": [
        "#inserting the cluster number before entries\n",
        "data.insert(0,\"cluster\", clusters)"
      ],
      "metadata": {
        "id": "81dIRK6bK53g"
      },
      "execution_count": 18,
      "outputs": []
    },
    {
      "cell_type": "markdown",
      "source": [
        "Creating Dataframes with the data later shown in output.csv"
      ],
      "metadata": {
        "id": "Ry6YQNJmJ0TL"
      }
    },
    {
      "cell_type": "code",
      "source": [
        "df1 = pd.DataFrame({int(n_cluster)})"
      ],
      "metadata": {
        "id": "BepPYBKtyUba"
      },
      "execution_count": 19,
      "outputs": []
    },
    {
      "cell_type": "code",
      "source": [
        "df2 = pd.DataFrame(centroids)"
      ],
      "metadata": {
        "id": "0LGiJp9r9-6d"
      },
      "execution_count": 20,
      "outputs": []
    },
    {
      "cell_type": "code",
      "source": [
        "df3 = pd.DataFrame({math.floor(iteration)})"
      ],
      "metadata": {
        "id": "4thPY1F6-EQF"
      },
      "execution_count": 21,
      "outputs": []
    },
    {
      "cell_type": "code",
      "source": [
        "df4 = pd.DataFrame(reader.iloc[1:2])"
      ],
      "metadata": {
        "id": "x9g_C9Ft-Mu0"
      },
      "execution_count": 22,
      "outputs": []
    },
    {
      "cell_type": "code",
      "source": [
        "df5 = pd.DataFrame(data)"
      ],
      "metadata": {
        "id": "iX4f9f_XEBbk"
      },
      "execution_count": 23,
      "outputs": []
    },
    {
      "cell_type": "code",
      "source": [
        "df5"
      ],
      "metadata": {
        "colab": {
          "base_uri": "https://localhost:8080/",
          "height": 614
        },
        "id": "pgYiNNOVEJa4",
        "outputId": "3c54b2df-4bc8-4ad1-812b-88fa4e93cb78"
      },
      "execution_count": 24,
      "outputs": [
        {
          "output_type": "execute_result",
          "data": {
            "text/plain": [
              "    cluster         0         1\n",
              "2         2  0.348265  0.269012\n",
              "3         1  0.234727  0.757320\n",
              "4         0  0.767185  0.721171\n",
              "5         0  0.716671  0.867751\n",
              "6         0  0.919303  0.573783\n",
              "7         2  0.344657  0.165592\n",
              "8         1  0.456946  0.939763\n",
              "9         2  0.276024  0.150340\n",
              "10        0  0.562195  0.473443\n",
              "11        2  0.235105  0.325537\n",
              "12        2  0.903213  0.004043\n",
              "13        0  0.563296  0.704395\n",
              "14        1  0.464132  0.815031\n",
              "15        0  0.781521  0.327890\n",
              "16        2  0.029144  0.158528\n",
              "17        0  0.834918  0.404196\n",
              "18        1  0.050048  0.453950\n",
              "19        2  0.621989  0.059894"
            ],
            "text/html": [
              "\n",
              "  <div id=\"df-007052b0-7a79-4ab8-93e5-c8ebb8a86580\">\n",
              "    <div class=\"colab-df-container\">\n",
              "      <div>\n",
              "<style scoped>\n",
              "    .dataframe tbody tr th:only-of-type {\n",
              "        vertical-align: middle;\n",
              "    }\n",
              "\n",
              "    .dataframe tbody tr th {\n",
              "        vertical-align: top;\n",
              "    }\n",
              "\n",
              "    .dataframe thead th {\n",
              "        text-align: right;\n",
              "    }\n",
              "</style>\n",
              "<table border=\"1\" class=\"dataframe\">\n",
              "  <thead>\n",
              "    <tr style=\"text-align: right;\">\n",
              "      <th></th>\n",
              "      <th>cluster</th>\n",
              "      <th>0</th>\n",
              "      <th>1</th>\n",
              "    </tr>\n",
              "  </thead>\n",
              "  <tbody>\n",
              "    <tr>\n",
              "      <th>2</th>\n",
              "      <td>2</td>\n",
              "      <td>0.348265</td>\n",
              "      <td>0.269012</td>\n",
              "    </tr>\n",
              "    <tr>\n",
              "      <th>3</th>\n",
              "      <td>1</td>\n",
              "      <td>0.234727</td>\n",
              "      <td>0.757320</td>\n",
              "    </tr>\n",
              "    <tr>\n",
              "      <th>4</th>\n",
              "      <td>0</td>\n",
              "      <td>0.767185</td>\n",
              "      <td>0.721171</td>\n",
              "    </tr>\n",
              "    <tr>\n",
              "      <th>5</th>\n",
              "      <td>0</td>\n",
              "      <td>0.716671</td>\n",
              "      <td>0.867751</td>\n",
              "    </tr>\n",
              "    <tr>\n",
              "      <th>6</th>\n",
              "      <td>0</td>\n",
              "      <td>0.919303</td>\n",
              "      <td>0.573783</td>\n",
              "    </tr>\n",
              "    <tr>\n",
              "      <th>7</th>\n",
              "      <td>2</td>\n",
              "      <td>0.344657</td>\n",
              "      <td>0.165592</td>\n",
              "    </tr>\n",
              "    <tr>\n",
              "      <th>8</th>\n",
              "      <td>1</td>\n",
              "      <td>0.456946</td>\n",
              "      <td>0.939763</td>\n",
              "    </tr>\n",
              "    <tr>\n",
              "      <th>9</th>\n",
              "      <td>2</td>\n",
              "      <td>0.276024</td>\n",
              "      <td>0.150340</td>\n",
              "    </tr>\n",
              "    <tr>\n",
              "      <th>10</th>\n",
              "      <td>0</td>\n",
              "      <td>0.562195</td>\n",
              "      <td>0.473443</td>\n",
              "    </tr>\n",
              "    <tr>\n",
              "      <th>11</th>\n",
              "      <td>2</td>\n",
              "      <td>0.235105</td>\n",
              "      <td>0.325537</td>\n",
              "    </tr>\n",
              "    <tr>\n",
              "      <th>12</th>\n",
              "      <td>2</td>\n",
              "      <td>0.903213</td>\n",
              "      <td>0.004043</td>\n",
              "    </tr>\n",
              "    <tr>\n",
              "      <th>13</th>\n",
              "      <td>0</td>\n",
              "      <td>0.563296</td>\n",
              "      <td>0.704395</td>\n",
              "    </tr>\n",
              "    <tr>\n",
              "      <th>14</th>\n",
              "      <td>1</td>\n",
              "      <td>0.464132</td>\n",
              "      <td>0.815031</td>\n",
              "    </tr>\n",
              "    <tr>\n",
              "      <th>15</th>\n",
              "      <td>0</td>\n",
              "      <td>0.781521</td>\n",
              "      <td>0.327890</td>\n",
              "    </tr>\n",
              "    <tr>\n",
              "      <th>16</th>\n",
              "      <td>2</td>\n",
              "      <td>0.029144</td>\n",
              "      <td>0.158528</td>\n",
              "    </tr>\n",
              "    <tr>\n",
              "      <th>17</th>\n",
              "      <td>0</td>\n",
              "      <td>0.834918</td>\n",
              "      <td>0.404196</td>\n",
              "    </tr>\n",
              "    <tr>\n",
              "      <th>18</th>\n",
              "      <td>1</td>\n",
              "      <td>0.050048</td>\n",
              "      <td>0.453950</td>\n",
              "    </tr>\n",
              "    <tr>\n",
              "      <th>19</th>\n",
              "      <td>2</td>\n",
              "      <td>0.621989</td>\n",
              "      <td>0.059894</td>\n",
              "    </tr>\n",
              "  </tbody>\n",
              "</table>\n",
              "</div>\n",
              "      <button class=\"colab-df-convert\" onclick=\"convertToInteractive('df-007052b0-7a79-4ab8-93e5-c8ebb8a86580')\"\n",
              "              title=\"Convert this dataframe to an interactive table.\"\n",
              "              style=\"display:none;\">\n",
              "        \n",
              "  <svg xmlns=\"http://www.w3.org/2000/svg\" height=\"24px\"viewBox=\"0 0 24 24\"\n",
              "       width=\"24px\">\n",
              "    <path d=\"M0 0h24v24H0V0z\" fill=\"none\"/>\n",
              "    <path d=\"M18.56 5.44l.94 2.06.94-2.06 2.06-.94-2.06-.94-.94-2.06-.94 2.06-2.06.94zm-11 1L8.5 8.5l.94-2.06 2.06-.94-2.06-.94L8.5 2.5l-.94 2.06-2.06.94zm10 10l.94 2.06.94-2.06 2.06-.94-2.06-.94-.94-2.06-.94 2.06-2.06.94z\"/><path d=\"M17.41 7.96l-1.37-1.37c-.4-.4-.92-.59-1.43-.59-.52 0-1.04.2-1.43.59L10.3 9.45l-7.72 7.72c-.78.78-.78 2.05 0 2.83L4 21.41c.39.39.9.59 1.41.59.51 0 1.02-.2 1.41-.59l7.78-7.78 2.81-2.81c.8-.78.8-2.07 0-2.86zM5.41 20L4 18.59l7.72-7.72 1.47 1.35L5.41 20z\"/>\n",
              "  </svg>\n",
              "      </button>\n",
              "      \n",
              "  <style>\n",
              "    .colab-df-container {\n",
              "      display:flex;\n",
              "      flex-wrap:wrap;\n",
              "      gap: 12px;\n",
              "    }\n",
              "\n",
              "    .colab-df-convert {\n",
              "      background-color: #E8F0FE;\n",
              "      border: none;\n",
              "      border-radius: 50%;\n",
              "      cursor: pointer;\n",
              "      display: none;\n",
              "      fill: #1967D2;\n",
              "      height: 32px;\n",
              "      padding: 0 0 0 0;\n",
              "      width: 32px;\n",
              "    }\n",
              "\n",
              "    .colab-df-convert:hover {\n",
              "      background-color: #E2EBFA;\n",
              "      box-shadow: 0px 1px 2px rgba(60, 64, 67, 0.3), 0px 1px 3px 1px rgba(60, 64, 67, 0.15);\n",
              "      fill: #174EA6;\n",
              "    }\n",
              "\n",
              "    [theme=dark] .colab-df-convert {\n",
              "      background-color: #3B4455;\n",
              "      fill: #D2E3FC;\n",
              "    }\n",
              "\n",
              "    [theme=dark] .colab-df-convert:hover {\n",
              "      background-color: #434B5C;\n",
              "      box-shadow: 0px 1px 3px 1px rgba(0, 0, 0, 0.15);\n",
              "      filter: drop-shadow(0px 1px 2px rgba(0, 0, 0, 0.3));\n",
              "      fill: #FFFFFF;\n",
              "    }\n",
              "  </style>\n",
              "\n",
              "      <script>\n",
              "        const buttonEl =\n",
              "          document.querySelector('#df-007052b0-7a79-4ab8-93e5-c8ebb8a86580 button.colab-df-convert');\n",
              "        buttonEl.style.display =\n",
              "          google.colab.kernel.accessAllowed ? 'block' : 'none';\n",
              "\n",
              "        async function convertToInteractive(key) {\n",
              "          const element = document.querySelector('#df-007052b0-7a79-4ab8-93e5-c8ebb8a86580');\n",
              "          const dataTable =\n",
              "            await google.colab.kernel.invokeFunction('convertToInteractive',\n",
              "                                                     [key], {});\n",
              "          if (!dataTable) return;\n",
              "\n",
              "          const docLinkHtml = 'Like what you see? Visit the ' +\n",
              "            '<a target=\"_blank\" href=https://colab.research.google.com/notebooks/data_table.ipynb>data table notebook</a>'\n",
              "            + ' to learn more about interactive tables.';\n",
              "          element.innerHTML = '';\n",
              "          dataTable['output_type'] = 'display_data';\n",
              "          await google.colab.output.renderOutput(dataTable, element);\n",
              "          const docLink = document.createElement('div');\n",
              "          docLink.innerHTML = docLinkHtml;\n",
              "          element.appendChild(docLink);\n",
              "        }\n",
              "      </script>\n",
              "    </div>\n",
              "  </div>\n",
              "  "
            ]
          },
          "metadata": {},
          "execution_count": 24
        }
      ]
    },
    {
      "cell_type": "code",
      "source": [
        "#concatenating dataframes\n",
        "vertical_concat = pd.concat([df1, df2, df3, df4, df5], axis=0)"
      ],
      "metadata": {
        "id": "jbW8Xi4G-Tqr"
      },
      "execution_count": 25,
      "outputs": []
    },
    {
      "cell_type": "code",
      "source": [
        "vertical_concat"
      ],
      "metadata": {
        "colab": {
          "base_uri": "https://localhost:8080/",
          "height": 802
        },
        "id": "o_pg0Wmh-fq6",
        "outputId": "f943ce6d-b1c8-4ca7-c7cd-f721c117c71f"
      },
      "execution_count": 26,
      "outputs": [
        {
          "output_type": "execute_result",
          "data": {
            "text/plain": [
              "            0         1  cluster\n",
              "0    3.000000       NaN      NaN\n",
              "0    0.735013  0.581804      NaN\n",
              "1    0.301463  0.741516      NaN\n",
              "2    0.394057  0.161849      NaN\n",
              "0   10.000000       NaN      NaN\n",
              "1   18.000000  2.000000      NaN\n",
              "2    0.348265  0.269012      2.0\n",
              "3    0.234727  0.757320      1.0\n",
              "4    0.767185  0.721171      0.0\n",
              "5    0.716671  0.867751      0.0\n",
              "6    0.919303  0.573783      0.0\n",
              "7    0.344657  0.165592      2.0\n",
              "8    0.456946  0.939763      1.0\n",
              "9    0.276024  0.150340      2.0\n",
              "10   0.562195  0.473443      0.0\n",
              "11   0.235105  0.325537      2.0\n",
              "12   0.903213  0.004043      2.0\n",
              "13   0.563296  0.704395      0.0\n",
              "14   0.464132  0.815031      1.0\n",
              "15   0.781521  0.327890      0.0\n",
              "16   0.029144  0.158528      2.0\n",
              "17   0.834918  0.404196      0.0\n",
              "18   0.050048  0.453950      1.0\n",
              "19   0.621989  0.059894      2.0"
            ],
            "text/html": [
              "\n",
              "  <div id=\"df-b3a26e10-4b4e-4600-838b-22f77bcf25ff\">\n",
              "    <div class=\"colab-df-container\">\n",
              "      <div>\n",
              "<style scoped>\n",
              "    .dataframe tbody tr th:only-of-type {\n",
              "        vertical-align: middle;\n",
              "    }\n",
              "\n",
              "    .dataframe tbody tr th {\n",
              "        vertical-align: top;\n",
              "    }\n",
              "\n",
              "    .dataframe thead th {\n",
              "        text-align: right;\n",
              "    }\n",
              "</style>\n",
              "<table border=\"1\" class=\"dataframe\">\n",
              "  <thead>\n",
              "    <tr style=\"text-align: right;\">\n",
              "      <th></th>\n",
              "      <th>0</th>\n",
              "      <th>1</th>\n",
              "      <th>cluster</th>\n",
              "    </tr>\n",
              "  </thead>\n",
              "  <tbody>\n",
              "    <tr>\n",
              "      <th>0</th>\n",
              "      <td>3.000000</td>\n",
              "      <td>NaN</td>\n",
              "      <td>NaN</td>\n",
              "    </tr>\n",
              "    <tr>\n",
              "      <th>0</th>\n",
              "      <td>0.735013</td>\n",
              "      <td>0.581804</td>\n",
              "      <td>NaN</td>\n",
              "    </tr>\n",
              "    <tr>\n",
              "      <th>1</th>\n",
              "      <td>0.301463</td>\n",
              "      <td>0.741516</td>\n",
              "      <td>NaN</td>\n",
              "    </tr>\n",
              "    <tr>\n",
              "      <th>2</th>\n",
              "      <td>0.394057</td>\n",
              "      <td>0.161849</td>\n",
              "      <td>NaN</td>\n",
              "    </tr>\n",
              "    <tr>\n",
              "      <th>0</th>\n",
              "      <td>10.000000</td>\n",
              "      <td>NaN</td>\n",
              "      <td>NaN</td>\n",
              "    </tr>\n",
              "    <tr>\n",
              "      <th>1</th>\n",
              "      <td>18.000000</td>\n",
              "      <td>2.000000</td>\n",
              "      <td>NaN</td>\n",
              "    </tr>\n",
              "    <tr>\n",
              "      <th>2</th>\n",
              "      <td>0.348265</td>\n",
              "      <td>0.269012</td>\n",
              "      <td>2.0</td>\n",
              "    </tr>\n",
              "    <tr>\n",
              "      <th>3</th>\n",
              "      <td>0.234727</td>\n",
              "      <td>0.757320</td>\n",
              "      <td>1.0</td>\n",
              "    </tr>\n",
              "    <tr>\n",
              "      <th>4</th>\n",
              "      <td>0.767185</td>\n",
              "      <td>0.721171</td>\n",
              "      <td>0.0</td>\n",
              "    </tr>\n",
              "    <tr>\n",
              "      <th>5</th>\n",
              "      <td>0.716671</td>\n",
              "      <td>0.867751</td>\n",
              "      <td>0.0</td>\n",
              "    </tr>\n",
              "    <tr>\n",
              "      <th>6</th>\n",
              "      <td>0.919303</td>\n",
              "      <td>0.573783</td>\n",
              "      <td>0.0</td>\n",
              "    </tr>\n",
              "    <tr>\n",
              "      <th>7</th>\n",
              "      <td>0.344657</td>\n",
              "      <td>0.165592</td>\n",
              "      <td>2.0</td>\n",
              "    </tr>\n",
              "    <tr>\n",
              "      <th>8</th>\n",
              "      <td>0.456946</td>\n",
              "      <td>0.939763</td>\n",
              "      <td>1.0</td>\n",
              "    </tr>\n",
              "    <tr>\n",
              "      <th>9</th>\n",
              "      <td>0.276024</td>\n",
              "      <td>0.150340</td>\n",
              "      <td>2.0</td>\n",
              "    </tr>\n",
              "    <tr>\n",
              "      <th>10</th>\n",
              "      <td>0.562195</td>\n",
              "      <td>0.473443</td>\n",
              "      <td>0.0</td>\n",
              "    </tr>\n",
              "    <tr>\n",
              "      <th>11</th>\n",
              "      <td>0.235105</td>\n",
              "      <td>0.325537</td>\n",
              "      <td>2.0</td>\n",
              "    </tr>\n",
              "    <tr>\n",
              "      <th>12</th>\n",
              "      <td>0.903213</td>\n",
              "      <td>0.004043</td>\n",
              "      <td>2.0</td>\n",
              "    </tr>\n",
              "    <tr>\n",
              "      <th>13</th>\n",
              "      <td>0.563296</td>\n",
              "      <td>0.704395</td>\n",
              "      <td>0.0</td>\n",
              "    </tr>\n",
              "    <tr>\n",
              "      <th>14</th>\n",
              "      <td>0.464132</td>\n",
              "      <td>0.815031</td>\n",
              "      <td>1.0</td>\n",
              "    </tr>\n",
              "    <tr>\n",
              "      <th>15</th>\n",
              "      <td>0.781521</td>\n",
              "      <td>0.327890</td>\n",
              "      <td>0.0</td>\n",
              "    </tr>\n",
              "    <tr>\n",
              "      <th>16</th>\n",
              "      <td>0.029144</td>\n",
              "      <td>0.158528</td>\n",
              "      <td>2.0</td>\n",
              "    </tr>\n",
              "    <tr>\n",
              "      <th>17</th>\n",
              "      <td>0.834918</td>\n",
              "      <td>0.404196</td>\n",
              "      <td>0.0</td>\n",
              "    </tr>\n",
              "    <tr>\n",
              "      <th>18</th>\n",
              "      <td>0.050048</td>\n",
              "      <td>0.453950</td>\n",
              "      <td>1.0</td>\n",
              "    </tr>\n",
              "    <tr>\n",
              "      <th>19</th>\n",
              "      <td>0.621989</td>\n",
              "      <td>0.059894</td>\n",
              "      <td>2.0</td>\n",
              "    </tr>\n",
              "  </tbody>\n",
              "</table>\n",
              "</div>\n",
              "      <button class=\"colab-df-convert\" onclick=\"convertToInteractive('df-b3a26e10-4b4e-4600-838b-22f77bcf25ff')\"\n",
              "              title=\"Convert this dataframe to an interactive table.\"\n",
              "              style=\"display:none;\">\n",
              "        \n",
              "  <svg xmlns=\"http://www.w3.org/2000/svg\" height=\"24px\"viewBox=\"0 0 24 24\"\n",
              "       width=\"24px\">\n",
              "    <path d=\"M0 0h24v24H0V0z\" fill=\"none\"/>\n",
              "    <path d=\"M18.56 5.44l.94 2.06.94-2.06 2.06-.94-2.06-.94-.94-2.06-.94 2.06-2.06.94zm-11 1L8.5 8.5l.94-2.06 2.06-.94-2.06-.94L8.5 2.5l-.94 2.06-2.06.94zm10 10l.94 2.06.94-2.06 2.06-.94-2.06-.94-.94-2.06-.94 2.06-2.06.94z\"/><path d=\"M17.41 7.96l-1.37-1.37c-.4-.4-.92-.59-1.43-.59-.52 0-1.04.2-1.43.59L10.3 9.45l-7.72 7.72c-.78.78-.78 2.05 0 2.83L4 21.41c.39.39.9.59 1.41.59.51 0 1.02-.2 1.41-.59l7.78-7.78 2.81-2.81c.8-.78.8-2.07 0-2.86zM5.41 20L4 18.59l7.72-7.72 1.47 1.35L5.41 20z\"/>\n",
              "  </svg>\n",
              "      </button>\n",
              "      \n",
              "  <style>\n",
              "    .colab-df-container {\n",
              "      display:flex;\n",
              "      flex-wrap:wrap;\n",
              "      gap: 12px;\n",
              "    }\n",
              "\n",
              "    .colab-df-convert {\n",
              "      background-color: #E8F0FE;\n",
              "      border: none;\n",
              "      border-radius: 50%;\n",
              "      cursor: pointer;\n",
              "      display: none;\n",
              "      fill: #1967D2;\n",
              "      height: 32px;\n",
              "      padding: 0 0 0 0;\n",
              "      width: 32px;\n",
              "    }\n",
              "\n",
              "    .colab-df-convert:hover {\n",
              "      background-color: #E2EBFA;\n",
              "      box-shadow: 0px 1px 2px rgba(60, 64, 67, 0.3), 0px 1px 3px 1px rgba(60, 64, 67, 0.15);\n",
              "      fill: #174EA6;\n",
              "    }\n",
              "\n",
              "    [theme=dark] .colab-df-convert {\n",
              "      background-color: #3B4455;\n",
              "      fill: #D2E3FC;\n",
              "    }\n",
              "\n",
              "    [theme=dark] .colab-df-convert:hover {\n",
              "      background-color: #434B5C;\n",
              "      box-shadow: 0px 1px 3px 1px rgba(0, 0, 0, 0.15);\n",
              "      filter: drop-shadow(0px 1px 2px rgba(0, 0, 0, 0.3));\n",
              "      fill: #FFFFFF;\n",
              "    }\n",
              "  </style>\n",
              "\n",
              "      <script>\n",
              "        const buttonEl =\n",
              "          document.querySelector('#df-b3a26e10-4b4e-4600-838b-22f77bcf25ff button.colab-df-convert');\n",
              "        buttonEl.style.display =\n",
              "          google.colab.kernel.accessAllowed ? 'block' : 'none';\n",
              "\n",
              "        async function convertToInteractive(key) {\n",
              "          const element = document.querySelector('#df-b3a26e10-4b4e-4600-838b-22f77bcf25ff');\n",
              "          const dataTable =\n",
              "            await google.colab.kernel.invokeFunction('convertToInteractive',\n",
              "                                                     [key], {});\n",
              "          if (!dataTable) return;\n",
              "\n",
              "          const docLinkHtml = 'Like what you see? Visit the ' +\n",
              "            '<a target=\"_blank\" href=https://colab.research.google.com/notebooks/data_table.ipynb>data table notebook</a>'\n",
              "            + ' to learn more about interactive tables.';\n",
              "          element.innerHTML = '';\n",
              "          dataTable['output_type'] = 'display_data';\n",
              "          await google.colab.output.renderOutput(dataTable, element);\n",
              "          const docLink = document.createElement('div');\n",
              "          docLink.innerHTML = docLinkHtml;\n",
              "          element.appendChild(docLink);\n",
              "        }\n",
              "      </script>\n",
              "    </div>\n",
              "  </div>\n",
              "  "
            ]
          },
          "metadata": {},
          "execution_count": 26
        }
      ]
    },
    {
      "cell_type": "code",
      "source": [
        "#witing in output.csv\n",
        "vertical_concat.to_csv('output.csv')"
      ],
      "metadata": {
        "id": "X0RvmjYU-kkk"
      },
      "execution_count": 27,
      "outputs": []
    }
  ]
}